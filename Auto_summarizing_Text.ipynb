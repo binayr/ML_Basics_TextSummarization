{
 "cells": [
  {
   "cell_type": "markdown",
   "metadata": {},
   "source": [
    "# Auto summarizing Text"
   ]
  },
  {
   "cell_type": "markdown",
   "metadata": {},
   "source": [
    "Word importance = Word freequency\n",
    "\n",
    "significance score = sum(word importance)\n",
    "\n",
    "pick most significance text"
   ]
  },
  {
   "cell_type": "markdown",
   "metadata": {},
   "source": [
    "### Abstract extraction"
   ]
  },
  {
   "cell_type": "markdown",
   "metadata": {},
   "source": [
    "Retrive text(Download webpage or scrape) \n",
    "\n",
    "-------->\n",
    "\n",
    "Process Raw text(Tokenize to sent and words, remove stopwords, )\n",
    "\n",
    "-------->\n",
    "\n",
    "Extract Sentences(get freequncy of words, calculate significance score, rank sent by score, pick top n sent)"
   ]
  },
  {
   "cell_type": "code",
   "execution_count": 46,
   "metadata": {},
   "outputs": [],
   "source": [
    "import nltk\n",
    "import urllib\n",
    "\n",
    "from bs4 import BeautifulSoup\n",
    "from collections import defaultdict\n",
    "from nltk.probability import FreqDist\n",
    "from heapq import nlargest\n",
    "from nltk.tokenize import word_tokenize, sent_tokenize\n",
    "from nltk.corpus import stopwords\n",
    "from string import punctuation"
   ]
  },
  {
   "cell_type": "code",
   "execution_count": 4,
   "metadata": {},
   "outputs": [],
   "source": [
    "article_url = 'https://timesofindia.indiatimes.com/city/kolhapur/homeopath-wife-held-in-kolhapur-for-selling-babies/articleshow/62814634.cms'"
   ]
  },
  {
   "cell_type": "code",
   "execution_count": 5,
   "metadata": {},
   "outputs": [],
   "source": [
    "def getTextWaPo(url):\n",
    "    page = urllib.request.urlopen(url).read().decode('utf8', 'ignore')\n",
    "    soup = BeautifulSoup(page, 'lxml')\n",
    "    text=''.join(map(lambda x: x.text, soup.find_all(\"div\", {\"class\": \"Normal\"})))\n",
    "    text = text.replace('\\n', '').replace('  ', '')\n",
    "    return text\n",
    "text = getTextWaPo(article_url)"
   ]
  },
  {
   "cell_type": "code",
   "execution_count": 6,
   "metadata": {},
   "outputs": [
    {
     "data": {
      "text/plain": [
       "'Maharashtra police on Tuesday arrested a homeopathic doctor and his wife for allegedly selling newborns in Kolhapur district. Police said Arun Bhupal Patil sold two babies over the last three months for Rs 2 lakh each. According to Priyadarshini Chorage, district head of the child welfare committee, Patil would help unmarried women deliver children and give all the cash from the sale to the mothers.Chorage said Patil has confessed to selling a new-born delivered by a minor mother to a family in Chhattisgarh on December 23, 2017 for Rs 2 lakh. \"He has also confessed to selling a new-born baby to a couple in Mumbai but has not revealed the details,\" she added.Police said Patil, his wife Ujwalla and a couple who took the baby had been booked under relevant sections of IPC and the Juvenile Justice Act, 2015.'"
      ]
     },
     "execution_count": 6,
     "metadata": {},
     "output_type": "execute_result"
    }
   ],
   "source": [
    "text"
   ]
  },
  {
   "cell_type": "code",
   "execution_count": 7,
   "metadata": {},
   "outputs": [
    {
     "data": {
      "text/plain": [
       "['Maharashtra police on Tuesday arrested a homeopathic doctor and his wife for allegedly selling newborns in Kolhapur district.',\n",
       " 'Police said Arun Bhupal Patil sold two babies over the last three months for Rs 2 lakh each.',\n",
       " 'According to Priyadarshini Chorage, district head of the child welfare committee, Patil would help unmarried women deliver children and give all the cash from the sale to the mothers.Chorage said Patil has confessed to selling a new-born delivered by a minor mother to a family in Chhattisgarh on December 23, 2017 for Rs 2 lakh.',\n",
       " '\"He has also confessed to selling a new-born baby to a couple in Mumbai but has not revealed the details,\" she added.Police said Patil, his wife Ujwalla and a couple who took the baby had been booked under relevant sections of IPC and the Juvenile Justice Act, 2015.']"
      ]
     },
     "execution_count": 7,
     "metadata": {},
     "output_type": "execute_result"
    }
   ],
   "source": [
    "sentences = sent_tokenize(text)\n",
    "sentences"
   ]
  },
  {
   "cell_type": "code",
   "execution_count": 8,
   "metadata": {},
   "outputs": [
    {
     "data": {
      "text/plain": [
       "['maharashtra',\n",
       " 'police',\n",
       " 'on',\n",
       " 'tuesday',\n",
       " 'arrested',\n",
       " 'a',\n",
       " 'homeopathic',\n",
       " 'doctor',\n",
       " 'and',\n",
       " 'his',\n",
       " 'wife',\n",
       " 'for',\n",
       " 'allegedly',\n",
       " 'selling',\n",
       " 'newborns',\n",
       " 'in',\n",
       " 'kolhapur',\n",
       " 'district',\n",
       " '.',\n",
       " 'police',\n",
       " 'said',\n",
       " 'arun',\n",
       " 'bhupal',\n",
       " 'patil',\n",
       " 'sold',\n",
       " 'two',\n",
       " 'babies',\n",
       " 'over',\n",
       " 'the',\n",
       " 'last',\n",
       " 'three',\n",
       " 'months',\n",
       " 'for',\n",
       " 'rs',\n",
       " '2',\n",
       " 'lakh',\n",
       " 'each',\n",
       " '.',\n",
       " 'according',\n",
       " 'to',\n",
       " 'priyadarshini',\n",
       " 'chorage',\n",
       " ',',\n",
       " 'district',\n",
       " 'head',\n",
       " 'of',\n",
       " 'the',\n",
       " 'child',\n",
       " 'welfare',\n",
       " 'committee',\n",
       " ',',\n",
       " 'patil',\n",
       " 'would',\n",
       " 'help',\n",
       " 'unmarried',\n",
       " 'women',\n",
       " 'deliver',\n",
       " 'children',\n",
       " 'and',\n",
       " 'give',\n",
       " 'all',\n",
       " 'the',\n",
       " 'cash',\n",
       " 'from',\n",
       " 'the',\n",
       " 'sale',\n",
       " 'to',\n",
       " 'the',\n",
       " 'mothers.chorage',\n",
       " 'said',\n",
       " 'patil',\n",
       " 'has',\n",
       " 'confessed',\n",
       " 'to',\n",
       " 'selling',\n",
       " 'a',\n",
       " 'new-born',\n",
       " 'delivered',\n",
       " 'by',\n",
       " 'a',\n",
       " 'minor',\n",
       " 'mother',\n",
       " 'to',\n",
       " 'a',\n",
       " 'family',\n",
       " 'in',\n",
       " 'chhattisgarh',\n",
       " 'on',\n",
       " 'december',\n",
       " '23',\n",
       " ',',\n",
       " '2017',\n",
       " 'for',\n",
       " 'rs',\n",
       " '2',\n",
       " 'lakh',\n",
       " '.',\n",
       " '``',\n",
       " 'he',\n",
       " 'has',\n",
       " 'also',\n",
       " 'confessed',\n",
       " 'to',\n",
       " 'selling',\n",
       " 'a',\n",
       " 'new-born',\n",
       " 'baby',\n",
       " 'to',\n",
       " 'a',\n",
       " 'couple',\n",
       " 'in',\n",
       " 'mumbai',\n",
       " 'but',\n",
       " 'has',\n",
       " 'not',\n",
       " 'revealed',\n",
       " 'the',\n",
       " 'details',\n",
       " ',',\n",
       " \"''\",\n",
       " 'she',\n",
       " 'added.police',\n",
       " 'said',\n",
       " 'patil',\n",
       " ',',\n",
       " 'his',\n",
       " 'wife',\n",
       " 'ujwalla',\n",
       " 'and',\n",
       " 'a',\n",
       " 'couple',\n",
       " 'who',\n",
       " 'took',\n",
       " 'the',\n",
       " 'baby',\n",
       " 'had',\n",
       " 'been',\n",
       " 'booked',\n",
       " 'under',\n",
       " 'relevant',\n",
       " 'sections',\n",
       " 'of',\n",
       " 'ipc',\n",
       " 'and',\n",
       " 'the',\n",
       " 'juvenile',\n",
       " 'justice',\n",
       " 'act',\n",
       " ',',\n",
       " '2015',\n",
       " '.']"
      ]
     },
     "execution_count": 8,
     "metadata": {},
     "output_type": "execute_result"
    }
   ],
   "source": [
    "words = word_tokenize(text.lower())\n",
    "words"
   ]
  },
  {
   "cell_type": "code",
   "execution_count": 9,
   "metadata": {},
   "outputs": [
    {
     "data": {
      "text/plain": [
       "{'!',\n",
       " '\"',\n",
       " '#',\n",
       " '$',\n",
       " '%',\n",
       " '&',\n",
       " \"'\",\n",
       " '(',\n",
       " ')',\n",
       " '*',\n",
       " '+',\n",
       " ',',\n",
       " '-',\n",
       " '.',\n",
       " '/',\n",
       " ':',\n",
       " ';',\n",
       " '<',\n",
       " '=',\n",
       " '>',\n",
       " '?',\n",
       " '@',\n",
       " '[',\n",
       " '\\\\',\n",
       " ']',\n",
       " '^',\n",
       " '_',\n",
       " '`',\n",
       " 'a',\n",
       " 'about',\n",
       " 'above',\n",
       " 'after',\n",
       " 'again',\n",
       " 'against',\n",
       " 'ain',\n",
       " 'all',\n",
       " 'am',\n",
       " 'an',\n",
       " 'and',\n",
       " 'any',\n",
       " 'are',\n",
       " 'aren',\n",
       " \"aren't\",\n",
       " 'as',\n",
       " 'at',\n",
       " 'be',\n",
       " 'because',\n",
       " 'been',\n",
       " 'before',\n",
       " 'being',\n",
       " 'below',\n",
       " 'between',\n",
       " 'both',\n",
       " 'but',\n",
       " 'by',\n",
       " 'can',\n",
       " 'couldn',\n",
       " \"couldn't\",\n",
       " 'd',\n",
       " 'did',\n",
       " 'didn',\n",
       " \"didn't\",\n",
       " 'do',\n",
       " 'does',\n",
       " 'doesn',\n",
       " \"doesn't\",\n",
       " 'doing',\n",
       " 'don',\n",
       " \"don't\",\n",
       " 'down',\n",
       " 'during',\n",
       " 'each',\n",
       " 'few',\n",
       " 'for',\n",
       " 'from',\n",
       " 'further',\n",
       " 'had',\n",
       " 'hadn',\n",
       " \"hadn't\",\n",
       " 'has',\n",
       " 'hasn',\n",
       " \"hasn't\",\n",
       " 'have',\n",
       " 'haven',\n",
       " \"haven't\",\n",
       " 'having',\n",
       " 'he',\n",
       " 'her',\n",
       " 'here',\n",
       " 'hers',\n",
       " 'herself',\n",
       " 'him',\n",
       " 'himself',\n",
       " 'his',\n",
       " 'how',\n",
       " 'i',\n",
       " 'if',\n",
       " 'in',\n",
       " 'into',\n",
       " 'is',\n",
       " 'isn',\n",
       " \"isn't\",\n",
       " 'it',\n",
       " \"it's\",\n",
       " 'its',\n",
       " 'itself',\n",
       " 'just',\n",
       " 'll',\n",
       " 'm',\n",
       " 'ma',\n",
       " 'me',\n",
       " 'mightn',\n",
       " \"mightn't\",\n",
       " 'more',\n",
       " 'most',\n",
       " 'mustn',\n",
       " \"mustn't\",\n",
       " 'my',\n",
       " 'myself',\n",
       " 'needn',\n",
       " \"needn't\",\n",
       " 'no',\n",
       " 'nor',\n",
       " 'not',\n",
       " 'now',\n",
       " 'o',\n",
       " 'of',\n",
       " 'off',\n",
       " 'on',\n",
       " 'once',\n",
       " 'only',\n",
       " 'or',\n",
       " 'other',\n",
       " 'our',\n",
       " 'ours',\n",
       " 'ourselves',\n",
       " 'out',\n",
       " 'over',\n",
       " 'own',\n",
       " 're',\n",
       " 's',\n",
       " 'same',\n",
       " 'shan',\n",
       " \"shan't\",\n",
       " 'she',\n",
       " \"she's\",\n",
       " 'should',\n",
       " \"should've\",\n",
       " 'shouldn',\n",
       " \"shouldn't\",\n",
       " 'so',\n",
       " 'some',\n",
       " 'such',\n",
       " 't',\n",
       " 'than',\n",
       " 'that',\n",
       " \"that'll\",\n",
       " 'the',\n",
       " 'their',\n",
       " 'theirs',\n",
       " 'them',\n",
       " 'themselves',\n",
       " 'then',\n",
       " 'there',\n",
       " 'these',\n",
       " 'they',\n",
       " 'this',\n",
       " 'those',\n",
       " 'through',\n",
       " 'to',\n",
       " 'too',\n",
       " 'under',\n",
       " 'until',\n",
       " 'up',\n",
       " 've',\n",
       " 'very',\n",
       " 'was',\n",
       " 'wasn',\n",
       " \"wasn't\",\n",
       " 'we',\n",
       " 'were',\n",
       " 'weren',\n",
       " \"weren't\",\n",
       " 'what',\n",
       " 'when',\n",
       " 'where',\n",
       " 'which',\n",
       " 'while',\n",
       " 'who',\n",
       " 'whom',\n",
       " 'why',\n",
       " 'will',\n",
       " 'with',\n",
       " 'won',\n",
       " \"won't\",\n",
       " 'wouldn',\n",
       " \"wouldn't\",\n",
       " 'y',\n",
       " 'you',\n",
       " \"you'd\",\n",
       " \"you'll\",\n",
       " \"you're\",\n",
       " \"you've\",\n",
       " 'your',\n",
       " 'yours',\n",
       " 'yourself',\n",
       " 'yourselves',\n",
       " '{',\n",
       " '|',\n",
       " '}',\n",
       " '~'}"
      ]
     },
     "execution_count": 9,
     "metadata": {},
     "output_type": "execute_result"
    }
   ],
   "source": [
    "_stopwords = set(stopwords.words('english') + list(punctuation))\n",
    "_stopwords"
   ]
  },
  {
   "cell_type": "code",
   "execution_count": 10,
   "metadata": {},
   "outputs": [
    {
     "data": {
      "text/plain": [
       "['maharashtra',\n",
       " 'police',\n",
       " 'tuesday',\n",
       " 'arrested',\n",
       " 'homeopathic',\n",
       " 'doctor',\n",
       " 'wife',\n",
       " 'allegedly',\n",
       " 'selling',\n",
       " 'newborns',\n",
       " 'kolhapur',\n",
       " 'district',\n",
       " 'police',\n",
       " 'said',\n",
       " 'arun',\n",
       " 'bhupal',\n",
       " 'patil',\n",
       " 'sold',\n",
       " 'two',\n",
       " 'babies',\n",
       " 'last',\n",
       " 'three',\n",
       " 'months',\n",
       " 'rs',\n",
       " '2',\n",
       " 'lakh',\n",
       " 'according',\n",
       " 'priyadarshini',\n",
       " 'chorage',\n",
       " 'district',\n",
       " 'head',\n",
       " 'child',\n",
       " 'welfare',\n",
       " 'committee',\n",
       " 'patil',\n",
       " 'would',\n",
       " 'help',\n",
       " 'unmarried',\n",
       " 'women',\n",
       " 'deliver',\n",
       " 'children',\n",
       " 'give',\n",
       " 'cash',\n",
       " 'sale',\n",
       " 'mothers.chorage',\n",
       " 'said',\n",
       " 'patil',\n",
       " 'confessed',\n",
       " 'selling',\n",
       " 'new-born',\n",
       " 'delivered',\n",
       " 'minor',\n",
       " 'mother',\n",
       " 'family',\n",
       " 'chhattisgarh',\n",
       " 'december',\n",
       " '23',\n",
       " '2017',\n",
       " 'rs',\n",
       " '2',\n",
       " 'lakh',\n",
       " '``',\n",
       " 'also',\n",
       " 'confessed',\n",
       " 'selling',\n",
       " 'new-born',\n",
       " 'baby',\n",
       " 'couple',\n",
       " 'mumbai',\n",
       " 'revealed',\n",
       " 'details',\n",
       " \"''\",\n",
       " 'added.police',\n",
       " 'said',\n",
       " 'patil',\n",
       " 'wife',\n",
       " 'ujwalla',\n",
       " 'couple',\n",
       " 'took',\n",
       " 'baby',\n",
       " 'booked',\n",
       " 'relevant',\n",
       " 'sections',\n",
       " 'ipc',\n",
       " 'juvenile',\n",
       " 'justice',\n",
       " 'act',\n",
       " '2015']"
      ]
     },
     "execution_count": 10,
     "metadata": {},
     "output_type": "execute_result"
    }
   ],
   "source": [
    "word_sent = [word for word in words if word not in _stopwords]\n",
    "word_sent"
   ]
  },
  {
   "cell_type": "code",
   "execution_count": 11,
   "metadata": {},
   "outputs": [
    {
     "data": {
      "text/plain": [
       "FreqDist({\"''\": 1,\n",
       "          '2': 2,\n",
       "          '2015': 1,\n",
       "          '2017': 1,\n",
       "          '23': 1,\n",
       "          '``': 1,\n",
       "          'according': 1,\n",
       "          'act': 1,\n",
       "          'added.police': 1,\n",
       "          'allegedly': 1,\n",
       "          'also': 1,\n",
       "          'arrested': 1,\n",
       "          'arun': 1,\n",
       "          'babies': 1,\n",
       "          'baby': 2,\n",
       "          'bhupal': 1,\n",
       "          'booked': 1,\n",
       "          'cash': 1,\n",
       "          'chhattisgarh': 1,\n",
       "          'child': 1,\n",
       "          'children': 1,\n",
       "          'chorage': 1,\n",
       "          'committee': 1,\n",
       "          'confessed': 2,\n",
       "          'couple': 2,\n",
       "          'december': 1,\n",
       "          'deliver': 1,\n",
       "          'delivered': 1,\n",
       "          'details': 1,\n",
       "          'district': 2,\n",
       "          'doctor': 1,\n",
       "          'family': 1,\n",
       "          'give': 1,\n",
       "          'head': 1,\n",
       "          'help': 1,\n",
       "          'homeopathic': 1,\n",
       "          'ipc': 1,\n",
       "          'justice': 1,\n",
       "          'juvenile': 1,\n",
       "          'kolhapur': 1,\n",
       "          'lakh': 2,\n",
       "          'last': 1,\n",
       "          'maharashtra': 1,\n",
       "          'minor': 1,\n",
       "          'months': 1,\n",
       "          'mother': 1,\n",
       "          'mothers.chorage': 1,\n",
       "          'mumbai': 1,\n",
       "          'new-born': 2,\n",
       "          'newborns': 1,\n",
       "          'patil': 4,\n",
       "          'police': 2,\n",
       "          'priyadarshini': 1,\n",
       "          'relevant': 1,\n",
       "          'revealed': 1,\n",
       "          'rs': 2,\n",
       "          'said': 3,\n",
       "          'sale': 1,\n",
       "          'sections': 1,\n",
       "          'selling': 3,\n",
       "          'sold': 1,\n",
       "          'three': 1,\n",
       "          'took': 1,\n",
       "          'tuesday': 1,\n",
       "          'two': 1,\n",
       "          'ujwalla': 1,\n",
       "          'unmarried': 1,\n",
       "          'welfare': 1,\n",
       "          'wife': 2,\n",
       "          'women': 1,\n",
       "          'would': 1})"
      ]
     },
     "execution_count": 11,
     "metadata": {},
     "output_type": "execute_result"
    }
   ],
   "source": [
    "from nltk.probability import FreqDist\n",
    "freq = FreqDist(word_sent)\n",
    "freq"
   ]
  },
  {
   "cell_type": "code",
   "execution_count": 12,
   "metadata": {},
   "outputs": [],
   "source": [
    "from heapq import nlargest"
   ]
  },
  {
   "cell_type": "code",
   "execution_count": 13,
   "metadata": {},
   "outputs": [
    {
     "data": {
      "text/plain": [
       "['patil',\n",
       " 'selling',\n",
       " 'said',\n",
       " 'police',\n",
       " 'wife',\n",
       " 'district',\n",
       " 'rs',\n",
       " '2',\n",
       " 'lakh',\n",
       " 'confessed']"
      ]
     },
     "execution_count": 13,
     "metadata": {},
     "output_type": "execute_result"
    }
   ],
   "source": [
    "nlargest(10, freq, key=freq.get)"
   ]
  },
  {
   "cell_type": "code",
   "execution_count": 14,
   "metadata": {},
   "outputs": [
    {
     "data": {
      "text/plain": [
       "defaultdict(int, {0: 17, 1: 23, 2: 51, 3: 41})"
      ]
     },
     "execution_count": 14,
     "metadata": {},
     "output_type": "execute_result"
    }
   ],
   "source": [
    "from collections import defaultdict\n",
    "ranking = defaultdict(int)\n",
    "\n",
    "for i, sent in enumerate(sentences):\n",
    "    for w in word_tokenize(sent.lower()):\n",
    "        if w in freq:\n",
    "            ranking[i] += freq[w]\n",
    "            \n",
    "ranking"
   ]
  },
  {
   "cell_type": "code",
   "execution_count": 15,
   "metadata": {},
   "outputs": [
    {
     "data": {
      "text/plain": [
       "[2, 3]"
      ]
     },
     "execution_count": 15,
     "metadata": {},
     "output_type": "execute_result"
    }
   ],
   "source": [
    "sent_idx = nlargest(2, ranking, key=ranking.get)\n",
    "sent_idx"
   ]
  },
  {
   "cell_type": "code",
   "execution_count": 16,
   "metadata": {},
   "outputs": [],
   "source": [
    "summry_list = [sentences[j] for j in sorted(sent_idx)]"
   ]
  },
  {
   "cell_type": "code",
   "execution_count": 17,
   "metadata": {},
   "outputs": [],
   "source": [
    "def summarize(text, n):\n",
    "    sentences = sent_tokenize(text)\n",
    "    \n",
    "    assert n < len(sentences)\n",
    "    words = word_tokenize(text.lower())\n",
    "    _stopwords = set(stopwords.words('english') + list(punctuation))\n",
    "    \n",
    "    word_sent = [word for word in words if word not in _stopwords]\n",
    "    freq = FreqDist(word_sent)\n",
    "    \n",
    "    ranking = defaultdict(int)\n",
    "\n",
    "    for i, sent in enumerate(sentences):\n",
    "        for w in word_tokenize(sent.lower()):\n",
    "            if w in freq:\n",
    "                ranking[i] += freq[w]\n",
    "                \n",
    "    sent_idx = nlargest(2, ranking, key=ranking.get)\n",
    "    return [sentences[j] for j in sorted(sent_idx)]\n",
    "\n"
   ]
  },
  {
   "cell_type": "code",
   "execution_count": 18,
   "metadata": {},
   "outputs": [
    {
     "data": {
      "text/plain": [
       "'According to Priyadarshini Chorage, district head of the child welfare committee, Patil would help unmarried women deliver children and give all the cash from the sale to the mothers.Chorage said Patil has confessed to selling a new-born delivered by a minor mother to a family in Chhattisgarh on December 23, 2017 for Rs 2 lakh.\"He has also confessed to selling a new-born baby to a couple in Mumbai but has not revealed the details,\" she added.Police said Patil, his wife Ujwalla and a couple who took the baby had been booked under relevant sections of IPC and the Juvenile Justice Act, 2015.'"
      ]
     },
     "execution_count": 18,
     "metadata": {},
     "output_type": "execute_result"
    }
   ],
   "source": [
    "''.join(summarize(text, 2))"
   ]
  },
  {
   "cell_type": "markdown",
   "metadata": {},
   "source": [
    "## ML Approach"
   ]
  },
  {
   "cell_type": "markdown",
   "metadata": {},
   "source": [
    "feature extraction using bag of words model\n",
    "\n",
    "K-means clustering to identify set of topics\n",
    "\n",
    "k-nearest neighbours model for classifying text into topics"
   ]
  },
  {
   "cell_type": "markdown",
   "metadata": {},
   "source": [
    "Corpus of article\n",
    "\n",
    "----------->\n",
    "\n",
    "identify themes\n",
    "\n",
    "----------->\n",
    "\n",
    "Assign themes to article"
   ]
  },
  {
   "cell_type": "code",
   "execution_count": 35,
   "metadata": {},
   "outputs": [
    {
     "name": "stderr",
     "output_type": "stream",
     "text": [
      "c:\\users\\bray1\\projects\\nlp\\env\\lib\\site-packages\\bs4\\__init__.py:181: UserWarning: No parser was explicitly specified, so I'm using the best available HTML parser for this system (\"lxml\"). This usually isn't a problem, but if you run this code on another system, or in a different virtual environment, it may use a different parser and behave differently.\n",
      "\n",
      "The code that caused this warning is on line 193 of the file c:\\python36\\Lib\\runpy.py. To get rid of this warning, change code that looks like this:\n",
      "\n",
      " BeautifulSoup(YOUR_MARKUP})\n",
      "\n",
      "to this:\n",
      "\n",
      " BeautifulSoup(YOUR_MARKUP, \"lxml\")\n",
      "\n",
      "  markup_type=markup_type))\n"
     ]
    },
    {
     "name": "stdout",
     "output_type": "stream",
     "text": [
      "Older Posts http://doxydonkey.blogspot.in/search?updated-max=2017-05-23T19:53:00-07:00&max-results=7\n",
      "Older Posts http://doxydonkey.blogspot.in/search?updated-max=2017-05-14T19:02:00-07:00&max-results=7&start=7&by-date=false\n",
      "Older Posts http://doxydonkey.blogspot.in/search?updated-max=2017-05-02T19:43:00-07:00&max-results=7&start=14&by-date=false\n",
      "Older Posts http://doxydonkey.blogspot.in/search?updated-max=2017-04-17T19:26:00-07:00&max-results=7&start=21&by-date=false\n",
      "Older Posts http://doxydonkey.blogspot.in/search?updated-max=2017-04-10T18:56:00-07:00&max-results=7&start=28&by-date=false\n",
      "Older Posts http://doxydonkey.blogspot.in/search?updated-max=2017-03-30T19:57:00-07:00&max-results=7&start=35&by-date=false\n",
      "Older Posts http://doxydonkey.blogspot.in/search?updated-max=2017-03-20T19:47:00-07:00&max-results=7&start=42&by-date=false\n",
      "Older Posts http://doxydonkey.blogspot.in/search?updated-max=2017-03-02T17:42:00-08:00&max-results=7&start=49&by-date=false\n",
      "Older Posts http://doxydonkey.blogspot.in/search?updated-max=2017-02-21T19:13:00-08:00&max-results=7&start=56&by-date=false\n",
      "Older Posts http://doxydonkey.blogspot.in/search?updated-max=2017-02-12T18:34:00-08:00&max-results=7&start=63&by-date=false\n",
      "Older Posts http://doxydonkey.blogspot.in/search?updated-max=2017-02-01T18:56:00-08:00&max-results=7&start=70&by-date=false\n",
      "Older Posts http://doxydonkey.blogspot.in/search?updated-max=2017-01-22T18:58:00-08:00&max-results=7&start=77&by-date=false\n",
      "Older Posts http://doxydonkey.blogspot.in/search?updated-max=2017-01-11T18:09:00-08:00&max-results=7&start=84&by-date=false\n",
      "Older Posts http://doxydonkey.blogspot.in/search?updated-max=2017-01-02T17:59:00-08:00&max-results=7&start=91&by-date=false\n",
      "Older Posts http://doxydonkey.blogspot.in/search?updated-max=2016-12-22T18:58:00-08:00&max-results=7&start=98&by-date=false\n",
      "Older Posts http://doxydonkey.blogspot.in/search?updated-max=2016-12-13T18:57:00-08:00&max-results=7&start=105&by-date=false\n",
      "Older Posts http://doxydonkey.blogspot.in/search?updated-max=2016-12-04T18:58:00-08:00&max-results=7&start=112&by-date=false\n",
      "Older Posts http://doxydonkey.blogspot.in/search?updated-max=2016-09-09T07:34:00-07:00&max-results=7&start=119&by-date=false\n",
      "Older Posts http://doxydonkey.blogspot.in/search?updated-max=2016-08-28T20:08:00-07:00&max-results=7&start=126&by-date=false\n",
      "Older Posts http://doxydonkey.blogspot.in/search?updated-max=2016-08-17T19:24:00-07:00&max-results=7&start=133&by-date=false\n",
      "Older Posts http://doxydonkey.blogspot.in/search?updated-max=2016-08-07T20:30:00-07:00&max-results=7&start=140&by-date=false\n",
      "Older Posts http://doxydonkey.blogspot.in/search?updated-max=2016-07-26T19:55:00-07:00&max-results=7&start=147&by-date=false\n",
      "Older Posts http://doxydonkey.blogspot.in/search?updated-max=2016-07-17T19:47:00-07:00&max-results=7&start=154&by-date=false\n",
      "Older Posts http://doxydonkey.blogspot.in/search?updated-max=2016-07-06T19:34:00-07:00&max-results=7&start=161&by-date=false\n",
      "Older Posts http://doxydonkey.blogspot.in/search?updated-max=2016-06-26T19:36:00-07:00&max-results=7&start=168&by-date=false\n",
      "Older Posts http://doxydonkey.blogspot.in/search?updated-max=2016-06-15T19:23:00-07:00&max-results=7&start=175&by-date=false\n",
      "Older Posts http://doxydonkey.blogspot.in/search?updated-max=2016-06-06T18:50:00-07:00&max-results=7&start=182&by-date=false\n",
      "Older Posts http://doxydonkey.blogspot.in/search?updated-max=2016-05-26T20:08:00-07:00&max-results=7&start=189&by-date=false\n",
      "Older Posts http://doxydonkey.blogspot.in/search?updated-max=2016-05-17T18:52:00-07:00&max-results=7&start=196&by-date=false\n",
      "Older Posts http://doxydonkey.blogspot.in/search?updated-max=2016-05-06T19:26:00-07:00&max-results=7&start=203&by-date=false\n",
      "Older Posts http://doxydonkey.blogspot.in/search?updated-max=2016-04-27T19:03:00-07:00&max-results=7&start=210&by-date=false\n",
      "Older Posts http://doxydonkey.blogspot.in/search?updated-max=2016-04-19T19:36:00-07:00&max-results=7&start=217&by-date=false\n",
      "Older Posts http://doxydonkey.blogspot.in/search?updated-max=2016-04-10T19:19:00-07:00&max-results=7&start=224&by-date=false\n",
      "Older Posts http://doxydonkey.blogspot.in/search?updated-max=2016-03-30T19:12:00-07:00&max-results=7&start=231&by-date=false\n",
      "Older Posts http://doxydonkey.blogspot.in/search?updated-max=2016-03-20T18:41:00-07:00&max-results=7&start=238&by-date=false\n",
      "Older Posts http://doxydonkey.blogspot.in/search?updated-max=2016-03-09T18:38:00-08:00&max-results=7&start=245&by-date=false\n",
      "Older Posts http://doxydonkey.blogspot.in/search?updated-max=2016-02-28T17:47:00-08:00&max-results=7&start=252&by-date=false\n",
      "Older Posts http://doxydonkey.blogspot.in/search?updated-max=2016-02-17T18:44:00-08:00&max-results=7&start=259&by-date=false\n",
      "Older Posts http://doxydonkey.blogspot.in/search?updated-max=2016-02-08T18:13:00-08:00&max-results=7&start=266&by-date=false\n",
      "Older Posts http://doxydonkey.blogspot.in/search?updated-max=2016-01-28T19:45:00-08:00&max-results=7&start=273&by-date=false\n",
      "Older Posts http://doxydonkey.blogspot.in/search?updated-max=2016-01-18T18:30:00-08:00&max-results=7&start=280&by-date=false\n",
      "Older Posts http://doxydonkey.blogspot.in/search?updated-max=2016-01-07T19:03:00-08:00&max-results=7&start=287&by-date=false\n",
      "Older Posts http://doxydonkey.blogspot.in/search?updated-max=2015-12-28T18:26:00-08:00&max-results=7&start=294&by-date=false\n",
      "Older Posts http://doxydonkey.blogspot.in/search?updated-max=2015-12-16T18:24:00-08:00&max-results=7&start=301&by-date=false\n",
      "Older Posts http://doxydonkey.blogspot.in/search?updated-max=2015-12-07T18:24:00-08:00&max-results=7&start=308&by-date=false\n",
      "Older Posts http://doxydonkey.blogspot.in/search?updated-max=2015-11-26T17:49:00-08:00&max-results=7&start=315&by-date=false\n",
      "Older Posts http://doxydonkey.blogspot.in/search?updated-max=2015-11-17T18:18:00-08:00&max-results=7&start=322&by-date=false\n",
      "Older Posts http://doxydonkey.blogspot.in/search?updated-max=2015-11-05T20:15:00-08:00&max-results=7&start=329&by-date=false\n",
      "Older Posts http://doxydonkey.blogspot.in/search?updated-max=2015-10-27T20:04:00-07:00&max-results=7&start=336&by-date=false\n",
      "Older Posts http://doxydonkey.blogspot.in/search?updated-max=2015-10-12T19:45:00-07:00&max-results=7&start=343&by-date=false\n",
      "Older Posts http://doxydonkey.blogspot.in/search?updated-max=2015-09-30T19:33:00-07:00&max-results=7&start=350&by-date=false\n",
      "Older Posts http://doxydonkey.blogspot.in/search?updated-max=2015-09-20T19:11:00-07:00&max-results=7&start=357&by-date=false\n",
      "Older Posts http://doxydonkey.blogspot.in/search?updated-max=2015-09-09T19:32:00-07:00&max-results=7&start=364&by-date=false\n",
      "Older Posts http://doxydonkey.blogspot.in/search?updated-max=2015-08-31T19:31:00-07:00&max-results=7&start=371&by-date=false\n",
      "Older Posts http://doxydonkey.blogspot.in/search?updated-max=2015-08-20T19:29:00-07:00&max-results=7&start=378&by-date=false\n",
      "Older Posts http://doxydonkey.blogspot.in/search?updated-max=2015-08-11T19:32:00-07:00&max-results=7&start=385&by-date=false\n",
      "Older Posts http://doxydonkey.blogspot.in/search?updated-max=2015-08-02T19:04:00-07:00&max-results=7&start=392&by-date=false\n",
      "Older Posts http://doxydonkey.blogspot.in/search?updated-max=2015-07-22T19:39:00-07:00&max-results=7&start=399&by-date=false\n",
      "Older Posts http://doxydonkey.blogspot.in/search?updated-max=2015-07-13T19:38:00-07:00&max-results=7&start=406&by-date=false\n",
      "Older Posts http://doxydonkey.blogspot.in/search?updated-max=2015-07-02T21:15:00-07:00&max-results=7&start=413&by-date=false\n",
      "Older Posts http://doxydonkey.blogspot.in/search?updated-max=2015-06-23T19:30:00-07:00&max-results=7&start=420&by-date=false\n",
      "Older Posts http://doxydonkey.blogspot.in/search?updated-max=2015-06-14T19:36:00-07:00&max-results=7&start=427&by-date=false\n",
      "Older Posts http://doxydonkey.blogspot.in/search?updated-max=2015-06-02T19:38:00-07:00&max-results=7&start=434&by-date=false\n",
      "Older Posts http://doxydonkey.blogspot.in/search?updated-max=2015-05-24T20:16:00-07:00&max-results=7&start=441&by-date=false\n",
      "Older Posts http://doxydonkey.blogspot.in/search?updated-max=2015-05-13T20:18:00-07:00&max-results=7&start=448&by-date=false\n",
      "Older Posts http://doxydonkey.blogspot.in/search?updated-max=2015-05-04T20:23:00-07:00&max-results=7&start=455&by-date=false\n"
     ]
    },
    {
     "name": "stdout",
     "output_type": "stream",
     "text": [
      "Older Posts http://doxydonkey.blogspot.in/search?updated-max=2015-04-23T20:19:00-07:00&max-results=7&start=462&by-date=false\n",
      "Older Posts http://doxydonkey.blogspot.in/search?updated-max=2015-04-14T19:40:00-07:00&max-results=7&start=469&by-date=false\n",
      "Older Posts http://doxydonkey.blogspot.in/search?updated-max=2015-04-05T20:22:00-07:00&max-results=7&start=476&by-date=false\n",
      "Older Posts http://doxydonkey.blogspot.in/search?updated-max=2015-03-24T20:12:00-07:00&max-results=7&start=483&by-date=false\n",
      "Older Posts http://doxydonkey.blogspot.in/search?updated-max=2015-03-15T20:41:00-07:00&max-results=7&start=490&by-date=false\n",
      "Older Posts http://doxydonkey.blogspot.in/search?updated-max=2015-03-03T19:30:00-08:00&max-results=7&start=497&by-date=false\n",
      "Older Posts http://doxydonkey.blogspot.in/search?updated-max=2015-02-22T19:55:00-08:00&max-results=7&start=504&by-date=false\n",
      "Older Posts http://doxydonkey.blogspot.in/search?updated-max=2015-02-11T20:02:00-08:00&max-results=7&start=511&by-date=false\n",
      "Older Posts http://doxydonkey.blogspot.in/search?updated-max=2015-02-02T19:46:00-08:00&max-results=7&start=518&by-date=false\n",
      "Older Posts http://doxydonkey.blogspot.in/search?updated-max=2015-01-22T19:50:00-08:00&max-results=7&start=524&by-date=false\n",
      "Older Posts http://doxydonkey.blogspot.in/search?updated-max=2015-01-15T19:17:00-08:00&max-results=7&start=529&by-date=false\n",
      "Older Posts http://doxydonkey.blogspot.in/search?updated-max=2015-01-06T19:48:00-08:00&max-results=7&start=536&by-date=false\n",
      "Older Posts http://doxydonkey.blogspot.in/search?updated-max=2014-12-25T21:30:00-08:00&max-results=7&start=543&by-date=false\n",
      "Older Posts http://doxydonkey.blogspot.in/search?updated-max=2014-12-15T19:24:00-08:00&max-results=7&start=550&by-date=false\n",
      "Older Posts http://doxydonkey.blogspot.in/search?updated-max=2014-12-05T01:52:00-08:00&max-results=7&start=557&by-date=false\n",
      "Older Posts http://doxydonkey.blogspot.in/search?updated-max=2014-11-26T01:44:00-08:00&max-results=7&start=564&by-date=false\n",
      "Older Posts http://doxydonkey.blogspot.in/search?updated-max=2014-11-17T01:41:00-08:00&max-results=7&start=571&by-date=false\n",
      "Older Posts http://doxydonkey.blogspot.in/search?updated-max=2014-11-06T01:38:00-08:00&max-results=7&start=578&by-date=false\n",
      "Older Posts http://doxydonkey.blogspot.in/search?updated-max=2014-10-28T01:24:00-07:00&max-results=7&start=585&by-date=false\n",
      "Older Posts http://doxydonkey.blogspot.in/search?updated-max=2014-10-17T01:20:00-07:00&max-results=7&start=592&by-date=false\n"
     ]
    }
   ],
   "source": [
    "def getAllDoxyDonkeyPosts(url, links):\n",
    "    # request = urllib.request(url)\n",
    "    response = urllib.request.urlopen(url)\n",
    "    soup = BeautifulSoup(response)\n",
    "    for a in soup.findAll('a'):\n",
    "        try:\n",
    "            url = a['href']\n",
    "            title = a['title']\n",
    "            if title == 'Older Posts':\n",
    "                print (title, url)\n",
    "                links.append(url)\n",
    "                getAllDoxyDonkeyPosts(url, links)\n",
    "        except:\n",
    "            title = \"\"\n",
    "    return\n",
    "\n",
    "blogurl = 'http://doxydonkey.blogspot.in'\n",
    "links = []\n",
    "getAllDoxyDonkeyPosts(blogurl, links)"
   ]
  },
  {
   "cell_type": "code",
   "execution_count": 37,
   "metadata": {},
   "outputs": [
    {
     "name": "stderr",
     "output_type": "stream",
     "text": [
      "c:\\users\\bray1\\projects\\nlp\\env\\lib\\site-packages\\bs4\\__init__.py:181: UserWarning: No parser was explicitly specified, so I'm using the best available HTML parser for this system (\"lxml\"). This usually isn't a problem, but if you run this code on another system, or in a different virtual environment, it may use a different parser and behave differently.\n",
      "\n",
      "The code that caused this warning is on line 193 of the file c:\\python36\\Lib\\runpy.py. To get rid of this warning, change code that looks like this:\n",
      "\n",
      " BeautifulSoup(YOUR_MARKUP})\n",
      "\n",
      "to this:\n",
      "\n",
      " BeautifulSoup(YOUR_MARKUP, \"lxml\")\n",
      "\n",
      "  markup_type=markup_type))\n"
     ]
    }
   ],
   "source": [
    "def getDoxyDonkeyText(testurl):\n",
    "    response = urllib.request.urlopen(testurl)\n",
    "    soup = BeautifulSoup(response)\n",
    "    mydivs = soup.findAll('div', {'class': 'post-body'})\n",
    "    posts = []\n",
    "    for div in mydivs:\n",
    "        posts += map(lambda p: p.text.replace('  ', ''), div.findAll('li'))\n",
    "    return posts\n",
    "\n",
    "data = getDoxyDonkeyText(blogurl)"
   ]
  },
  {
   "cell_type": "code",
   "execution_count": 38,
   "metadata": {},
   "outputs": [
    {
     "data": {
      "text/plain": [
       "['Alibaba Falters in Bid to Take Mobile Phone Control From Tencent:\\xa0Alibaba Group Holding Ltd.’s six-year-old excursion into mobile operating systems is faltering in China, casting doubt over software that bears\\xa0billionaire-founder\\xa0Jack Ma’s name and was once touted as key to countering Tencent Holdings Ltd.\\xa0China’s largest e-commerce company debuted YunOS in 2011, a system that underpins search, shopping and browsing that its executives last year said could attain as much as 25 percent domestic market share by the end of 2016 -- surpassing Apple Inc.’s iOS. Six years on, YunOS’ slice of China software installations stands at just 2.2 percent while its share of 2016 shipments was 10 percent, researchers Canalys and Counterpoint estimate, respectively. Alibaba disputes those numbers.\\xa0Alibaba managers have grown increasingly unhappy with its sluggish adoption and have begun an internal debate around the software’s future, a person familiar with the matter said. No conclusions have been reached, the person said, asking not to be named discussing a confidential matter. Yet the talks reflect the inability of a once-vaunted initiative to forestall Tencent’s dominance in the mobile arena, secured through the utility of WeChat -- a universal app that melds messaging, payments, media, shopping and on-demand services.',\n",
       " 'Pinterest raised another $150 million and is now valued at more than $12 billion:\\xa0Pinterest has raised $150 million in a new round of funding. The new deal values Pinterest at $12.3 billion, according to a company spokesperson, up from a valuation of $11 billion when it last raised funding two years ago. The round came from Pinterest’s existing investors, but the company is not saying which ones. Pinterest says it plans to use the money to help build its new visual search technology, which lets users employ images instead of keywords to find things on the service. The money will also be used to help grow its user base outside the United States. Around 40 percent of Pinterest’s users are in the U.S. Pinterest has raised well over $1 billion since it was founded seven years ago. The company’s business is finally starting to pick up; it expects to make more than $500 million in revenue this year, a 66 percent jump over last year, and more than Snapchat and Twitter made in the years before their respective IPOs.',\n",
       " 'The Silicon Valley Billionaires Remaking America’s Schools:\\xa0In San Francisco’s public schools, Marc Benioff, the chief executive of Salesforce, is giving middle school principals $100,000 “innovation grants” and encouraging them to behave more like start-up founders and less like bureaucrats.\\xa0In Maryland, Texas, Virginia and other states, Netflix’s chief, Reed Hastings, is championing a popular\\xa0math-teaching\\xa0program where Netflix-like algorithms determine which lessons students see.\\xa0And in more than 100 schools nationwide, Mark Zuckerberg, Facebook’s chief, is testing one of his latest big ideas: software that puts children in charge of their own learning, recasting their teachers as facilitators and mentors.\\xa0In the space of just a few years, technology giants have begun remaking the very nature of schooling on a vast scale, using some of the same techniques that have made their companies linchpins of the American economy. Through their philanthropy, they are influencing the subjects that schools teach, the classroom tools that teachers choose and fundamental approaches to learning. The involvement by some of the wealthiest and most influential titans of the 21st century amounts to a singular experiment in education, with millions of students serving as de facto beta testers for their ideas. Some tech leaders believe that applying an engineering\\xa0mind-set\\xa0can improve just about any\\xa0system,\\xa0and that their business acumen qualifies them to rethink American education.',\n",
       " 'Uber Fires Former Google Engineer at Heart of Self-Driving Dispute:\\xa0Uber said Tuesday that it had fired Anthony Levandowski, a star engineer brought in to lead the company’s self-driving automobile efforts who was accused of stealing trade secrets when he left a job at Google.\\xa0What Mr. Levandowski did when he quit Google to start his own company, Otto, which was acquired by Uber for nearly $700 million last year, is the key question in a closely watched lawsuit that pits one of the world’s most powerful companies against Uber, a richly financed up-and-comer.\\xa0The stakes are enormous for both businesses. Google was a pioneer in autonomous car technology and has spent nearly a decade and hundreds of millions of dollars on its effort, which is now run through\\xa0Waymo, a subsidiary of Google’s parent company, Alphabet. And Travis Kalanick, Uber’s chief executive, has said the future of his ride-hailing company, privately valued at nearly $70 billion, hinges on work being done to create cars that can drive themselves.\\xa0The dismissal of one of Uber’s most prized technical talents also points to the risks of the star engineering culture that has emerged in Silicon Valley in recent years, leading to giant paydays for a small group of employees.',\n",
       " 'Amazon Shares Hit $1,000, Showing E-Commerce, Cloud Prowess:\\xa0Amazon.com Inc.’s shares rose briefly just above $1,000 for the first time Tuesday, marking a new milestone for a company wooing investors by dominating online commerce and cloud computing. Amazon hit an intraday high of $1,001.20 in New York before ending the day little changed at $996.70. The stock is up almost 40 percent from a year ago and more than double the 15 percent gain of the S&P 500 Index in the same period. Investors are thinking about how much further Amazon can grow as it tries to replicate its U.S. success abroad. The Seattle company’s $478 billion market value is double that of Wal-Mart Stores Inc. even though the world’s biggest retailer will have sales three times larger than Amazon’s this year. Investors put more value in Amazon’s web traffic and delivery network than they do in Wal-Mart’s vast store presence because online spending will grow more than four times faster than overall retail spending this year as shoppers continue to shift from stores to websites, according to EMarketer Inc.\\xa0The world’s largest online retailer is dominating e-commerce with its $99-a-year Amazon Prime subscription, which includes delivery discounts, music and video streaming and photo storage that keep shoppers engaged with the website. Another Amazon advantage is its profitable and fast-growing cloud-computing division Amazon Web Services, which maintains a global network of data centers and rents out storage space and computing functions to clients in a variety of industries, including Netflix Inc. and Airbnb Inc. as well as Capital One Financial Corp. and the federal government.',\n",
       " \"Why the Chinese Will Pay for Content That Americans Won't:\\xa0Back in early 2016, Li Xiang was just another overworked magazine editor in Beijing. Then along came an opportunity to produce a business newsletter on a brand-new app called De Dao. In just a few months that app—which means “I Get” \\xa0in English—had attracted millions of users looking for daily advice and to learn everything from music to economics. And Li? Within months, he had close to 100,000 subscribers paying about $30 a year—which works out to almost $3 million in annual revenue. It's the kind of story that couldn't happen in the United States, where many people believe content should be free. In China, meanwhile, companies and individuals alike have managed to monetize smartphone apps, making money from news,\\xa0entertainment\\xa0and social media—by making people directly pay for it, instead of relying on advertisers. Chinese watch streams that others might find banal in part because they have fewer entertainment options, thanks to the government's strict regulation of media.There are cultural and demographic forces at work, too. In China, tens of millions of young people have migrated to the large industrial cities. They live far away from their families. So video\\xa0livestreaming\\xa0in particular\\xa0has become a form of digital companionship. The upshot is that thousands—maybe millions—of people are able to earn a living this way.\",\n",
       " 'Snapdeal receives Rs113 crore from Nexus, founders in surprise funding:\\xa0Struggling online marketplace Snapdeal has received Rs113 crore in an emergency financing round from existing investor Nexus Venture Partners and the company’s founders.\\xa0The funding will not affect Snapdeal’s proposed sale to Flipkart, three people familiar with the matter said, on condition of anonymity. Snapdeal (Jasper Infotech Ltd) has been in talks to sell itself to bigger rival Flipkart amid a boardroom battle involving its three most powerful investors and its co-founders Kunal Bahl and Rohit Bansal.\\xa0Japanese technology and telecoms conglomerate SoftBank Group Corp, Snapdeal’s largest investor, is trying to engineer the sale after giving up on the online marketplace, which has lost out to Flipkart and Amazon India in the e-commerce battle. At the other corner are Nexus, Kalaari\\xa0Capital\\xa0and the Snapdeal co-founders, all of whom were initially opposed to the sale.',\n",
       " 'Is China Outsmarting America in A.I.?\\xa0Sören Schwertfeger finished his postdoctorate research on autonomous robots in\\xa0Germany,\\xa0and seemed set to go to Europe or the United States, where artificial intelligence was pioneered and established. Instead, he went to China.\\xa0The balance of power in technology is shifting. China, which for years watched enviously as the West invented the software and the chips powering today’s digital age, has become a major player in artificial intelligence, what some think may be the most important technology of the future. Experts widely believe China is only a step behind the United States.\\xa0China’s ambitions mingle the most far-out sci-fi ideas with the needs of an authoritarian state: Philip K. Dick meets George Orwell. There are plans to use it to predict crimes, lend money, track people on the country’s ubiquitous closed-circuit cameras, alleviate traffic jams, create self-guided missiles and censor the internet. Beijing is backing its artificial intelligence push with vast sums of money. Having already spent billions on research programs, China is readying a new multibillion-dollar initiative to fund moonshot projects, start-ups and academic research, all with the aim of growing China’s A.I. capabilities, according to two professors who consulted with the government on the plan.\\xa0China’s private companies are pushing deeply into the field as well, though the line between government and private in China sometimes blurs. Baidu — often called the Google of China and a pioneer in artificial-intelligence-related fields, like speech recognition — this year opened a joint company-government laboratory partly run by academics who once worked on research into Chinese military robots.\\xa0China is spending more just as the United States cuts back. This past week, the Trump administration released a proposed budget that would slash funding for a variety of government agencies that have traditionally backed artificial intelligence research.',\n",
       " \"BA cancels flights from London as global IT outage causes chaos:\\xa0British Airways canceled all its flights from London's two biggest airports on Saturday after a global computer system failure caused confusion and chaos, with thousands of passengers queuing for hours and planes left stuck on runways.\\xa0The failure, caused by a power supply problem, disrupted BA's flight operations worldwide and also hit its call centers and website, said Alex Cruz, the chairman and chief executive of BA. The problems, which passengers said had affected flights across Britain, came on a particularly busy weekend with a public holiday on Monday and many children starting their school half-term breaks.Terminals at Heathrow and Gatwick became jammed with angry passengers, with confused BA staff unable to help as they had no access to their computers.\",\n",
       " 'Target is investing $75 million in mattress startup Casper:\\xa0Target has finalized an investment in Casper Sleep, pumping $75 million into the fast-growing mattress startup in a funding round that will total $100 million or more, according to a source familiar with the deal.\\xa0Existing Casper investors like Lerer Hippeau Ventures, IVP and NEA are also participating in the round. New investors, in addition to Target, could send the round over $100 million.\\xa0The investment comes after Target and Casper could not come to terms on an outright acquisition after Target offered to buy the startup for $1 billion. Casper, which is known for its foam mattresses that it ships to customers folded up in a box, last raised $55 million at a valuation of around $500 million in the summer of 2015. The startup received a higher valuation with this new investment, though the exact terms could not be learned.\\xa0For Target, the investment signals a move to put its money where its mouth is in its attempt to reclaim some of the cool\\xa0factor\\xa0that made it a hit among discount retailers for so long through relationships with popular designers and brands.',\n",
       " 'The Rise of the Fat Start-Up:\\xa0For much of the past decade, tech investors have been enamored of software companies that could grow very quickly for little money — like Instagram, which raised less than $60 million before it was bought by Facebook for $1 billion. Even Uber, which has raised billions of dollars for expansion, has attracted investors on the promise of eventual low operational costs, as it neither owns nor actually employs its drivers. (They are considered independent contractors.)\\xa0But modern capital markets have since unlocked far grander opportunities for tech entrepreneurs. They are blessed with essentially unlimited access to money, and ideas that once seemed too expensive, too risky or just too crazy are now getting off the ground. These start-ups are fat — with capital, with industry-altering ambition and, to their critics, often more than a little hubris.\\xa0Consider how Elon Musk, the chief executive of Tesla and SpaceX, is building electric cars, a gigantic automated factory, solar roofs, rockets and, as a hobby, a tunneling company. There are start-ups trying to create superspeedy Hyperloop transportation and others working on flying vehicles.\\xa0',\n",
       " 'DJI’s new selfie drone is controlled with just a wave of your hand:\\xa0DJI, the world’s biggest drone company, has a tiny new drone called the Spark. It’s the most affordable, accessible drone yet from the Chinese drone maker, costing $499. The Spark weighs only half a pound and is about the size of a can of soda. It’s designed to be carried for daily, spontaneous use, like in a backpack. And unlike DJI’s other drones, which are piloted via a smartphone or a separate controller, the Spark uses gesture recognition, meaning it moves in the direction you wave your hand, making it super easy to position in front of you.\\xa0The Spark can even land using gesture control, as was demonstrated in an unveiling event today when the presenter landed the small drone on his palm. The Sparks flies at about 31 miles per hour. Like other consumer drones, the Spark has a short flight time. It only flies for 16 minutes before needing to swap batteries or be recharged (though its batteries can be recharged with a micro USB on the go). The larger Mavic can fly for 27 minutes and GoPro’s Karma clocks about 20 minutes of flight time.\\xa0But short flying time hasn’t stopped people from buying new drones, and analysts predict the market will only continue to grow. The\\xa0analyist\\xa0firm Gartner estimates that this year the global personal drone market will be valued at $2.8 billion.',\n",
       " 'Bitcoin soars above $2,400 to\\xa0all-time\\xa0high:\\xa0Digital currency bitcoin hit a fresh record high on Wednesday, surging above $2,400, as demand for crypto-assets soared with the creation of new tokens to raise funding for start-ups using blockchain technology.\\xa0Blockchain, the underlying technology behind bitcoin, is a financial ledger maintained by a network of computers that can track the movement of any asset without the need for a central regulator. Bitcoin hit a record of $2,409 BTC=BTSP on the BitStamp platform and was last up 4.3 percent at $2,363. So far this year, the price of bitcoin has more than doubled.\\xa0A key reason for bitcoin\\'s dominance in the nefarious online underworld, say technologists and\\xa0cybercrime\\xa0experts, is its size - the total value of all bitcoins in circulation is more than twice that of the nearest of hundreds of rivals.\\xa0Also, a big part of bitcoin\\'s recent surge is the increase in demand for other digital currencies being sold in so-called \"initial coin offerings\", or ICOs. Under ICOs, blockchain start-ups sell their tokens directly to the public to raise capital without any regulatory oversight.\\xa0\"Bitcoin up 100 percent in under 2 months. Shanghai down almost 10 percent same timeframe, compared to most global stocks up. Probably not a coincidence!\", Jeffrey Gundlach, chief executive at DoubleLine Capital tweeted on Tuesday.',\n",
       " 'Uber to Repay Millions to Drivers, Who Could Be Owed Far More:\\xa0Uber said Tuesday that it had made a mistake in the way it calculated its commissions, at a cost of tens of millions of dollars to its New York drivers, and the company vowed to correct the practice and make the drivers whole for the lost earnings.\\xa0The ride-hailing service said it had been taking its cut from a figure including state taxes, rather than a pretax fare. If a passenger handed over $20, and $2 of that represented taxes, Uber’s commission was a percentage of the full $20, not of $18, as it should have been. Even at pocket change per ride, the cumulative difference was vast. But Uber’s handling of passenger payments raises questions about a larger legal issue, potentially far more substantial: not the pocket-change difference in the commission but whether that entire $2 in taxes is improperly coming out of the drivers’ wallets. Uber’s contract with drivers appears to allow the company to deduct only its 25 percent commission, not taxes, from their fares. But a lawsuit filed by a drivers’ advocacy group in New York last year said the company was making its drivers swallow the tax burden — a practice the group said amounted to wage theft.\\xa0The questions arise as Uber is facing mounting pressure over what drivers say is declining take-home pay, epitomized this year by a viral video of an argument between a driver and the company’s chief executive, Travis Kalanick.',\n",
       " \"Southeast Asia's Biggest Startup Files for $1 Billion IPO, Sources Say:\\xa0Sea Ltd., Southeast Asia’s most valuable startup, has filed confidentially for a potential U.S. initial public offering that could raise about $1 billion, according to people with knowledge of the matter.\\xa0The Singapore-based company, formerly known as Garena, filed with the U.S. Securities and Exchange Commission in the past few\\xa0weeks,\\xa0and is considering listing in early 2018, though no final decisions have been made, one of the people said. Sea is working with Goldman Sachs Group Inc. and Morgan Stanley on the share sale, the people said. Under the Jumpstart Our Business Startups Act, companies with less than $1 billion in annual revenue can file for an IPO with the SEC privately and work out the details outside the public eye.\\xa0The company, founded in 2009 by entrepreneur Forrest Li, began as an online gaming portal and has since branched out to add mobile shopping and payment services. A $1 billion deal would be the largest technology IPO out of Southeast Asia, according to data compiled by Bloomberg, and be a boon for backers such as Tencent Holdings Ltd. \\xa0Any overseas listing of Sea would be a blow for Singapore, which has been trying to woo local startups to sell shares at home as it seeks to build a regional hub for fast-growing, innovative companies.\",\n",
       " \"India's electric vehicles push likely to benefit Chinese car makers:\\xa0India's ambitious plan to push electric vehicles at the expense of other technologies could benefit Chinese car makers seeking to enter the market, but is worrying established automakers in the country who have so far focused on making hybrid models.\\xa0India's most influential government think-tank unveiled a policy blueprint this month aimed at electrifying all vehicles in the country by 2032, in a move that is catching the attention of car makers that are already investing in electric technology in China such as BYD and SAIC.\\xa0The May 12 report by Niti Aayog, the planning body headed by Prime Minister Narendra Modi, recommends lower taxes and loan interest rates on electric vehicles while capping sales of petrol and diesel cars, seen as a radical shift in policy.\\xa0India also plans to impose higher taxes on hybrid vehicles compared with electric, under a new unified tax regime set to come into effect from July 1, upsetting car makers like Maruti Suzuki and Toyota Motor. Earlier this year SAIC set up a local unit called MG Motor which is\\xa0finalising\\xa0plans to buy a car manufacturing plant in western India. A spokesman at SAIC did not comment specifically on the company's India plans.\\xa0Warren Buffett-backed BYD already builds electric buses in the country, while rival Chongqing Changan has said it may enter India by 2020.\"]"
      ]
     },
     "execution_count": 38,
     "metadata": {},
     "output_type": "execute_result"
    }
   ],
   "source": [
    "data"
   ]
  },
  {
   "cell_type": "code",
   "execution_count": 39,
   "metadata": {},
   "outputs": [],
   "source": [
    "from sklearn.feature_extraction.text import TfidfVectorizer"
   ]
  },
  {
   "cell_type": "code",
   "execution_count": 40,
   "metadata": {},
   "outputs": [
    {
     "data": {
      "text/plain": [
       "<1x229 sparse matrix of type '<class 'numpy.float64'>'\n",
       "\twith 33 stored elements in Compressed Sparse Row format>"
      ]
     },
     "execution_count": 40,
     "metadata": {},
     "output_type": "execute_result"
    }
   ],
   "source": [
    "vectorizer = TfidfVectorizer(max_df=0.5, min_df=2, stop_words=\"english\")\n",
    "x = vectorizer.fit_transform(data)\n",
    "x[0]"
   ]
  },
  {
   "cell_type": "code",
   "execution_count": 41,
   "metadata": {},
   "outputs": [
    {
     "name": "stdout",
     "output_type": "stream",
     "text": [
      "  (0, 127)\t0.3495108507283361\n",
      "  (0, 47)\t0.11650361690944537\n",
      "  (0, 195)\t0.3495108507283361\n",
      "  (0, 86)\t0.08697311064905155\n",
      "  (0, 38)\t0.2842219494516761\n",
      "  (0, 181)\t0.2842219494516761\n",
      "  (0, 109)\t0.10424734943869328\n",
      "  (0, 95)\t0.11650361690944537\n",
      "  (0, 112)\t0.09474064981722537\n",
      "  (0, 41)\t0.10424734943869328\n",
      "  (0, 167)\t0.11650361690944537\n",
      "  (0, 176)\t0.23300723381889074\n",
      "  (0, 162)\t0.2241505295348984\n",
      "  (0, 6)\t0.11650361690944537\n",
      "  (0, 139)\t0.2609193319471547\n",
      "  (0, 122)\t0.09474064981722537\n",
      "  (0, 173)\t0.23300723381889074\n",
      "  (0, 5)\t0.23300723381889074\n",
      "  (0, 227)\t0.08697311064905155\n",
      "  (0, 107)\t0.07471684317829946\n",
      "  (0, 1)\t0.11650361690944537\n",
      "  (0, 20)\t0.11650361690944537\n",
      "  (0, 81)\t0.10424734943869328\n",
      "  (0, 71)\t0.10424734943869328\n",
      "  (0, 123)\t0.20849469887738656\n",
      "  (0, 190)\t0.11650361690944537\n",
      "  (0, 103)\t0.11650361690944537\n",
      "  (0, 60)\t0.11650361690944537\n",
      "  (0, 16)\t0.11650361690944537\n",
      "  (0, 137)\t0.11650361690944537\n",
      "  (0, 124)\t0.11650361690944537\n",
      "  (0, 55)\t0.11650361690944537\n",
      "  (0, 171)\t0.10424734943869328\n"
     ]
    }
   ],
   "source": [
    "print(x[0])"
   ]
  },
  {
   "cell_type": "code",
   "execution_count": 43,
   "metadata": {},
   "outputs": [
    {
     "data": {
      "text/plain": [
       "KMeans(algorithm='auto', copy_x=True, init='k-means++', max_iter=100,\n",
       "    n_clusters=3, n_init=1, n_jobs=1, precompute_distances='auto',\n",
       "    random_state=None, tol=0.0001, verbose=True)"
      ]
     },
     "execution_count": 43,
     "metadata": {},
     "output_type": "execute_result"
    }
   ],
   "source": [
    "from sklearn.cluster import KMeans\n",
    "km = KMeans(n_clusters=3, init=\"k-means++\", max_iter=100, n_init=1, verbose=True)\n",
    "km"
   ]
  },
  {
   "cell_type": "code",
   "execution_count": 44,
   "metadata": {},
   "outputs": [
    {
     "name": "stdout",
     "output_type": "stream",
     "text": [
      "Initialization complete\n",
      "Iteration  0, inertia 21.154\n",
      "Iteration  1, inertia 11.234\n",
      "Converged at iteration 1: center shift 0.000000e+00 within tolerance 3.686399e-07\n"
     ]
    },
    {
     "data": {
      "text/plain": [
       "KMeans(algorithm='auto', copy_x=True, init='k-means++', max_iter=100,\n",
       "    n_clusters=3, n_init=1, n_jobs=1, precompute_distances='auto',\n",
       "    random_state=None, tol=0.0001, verbose=True)"
      ]
     },
     "execution_count": 44,
     "metadata": {},
     "output_type": "execute_result"
    }
   ],
   "source": [
    "km.fit(x)"
   ]
  },
  {
   "cell_type": "code",
   "execution_count": 45,
   "metadata": {},
   "outputs": [
    {
     "data": {
      "text/plain": [
       "(array([0, 1, 2]), array([6, 6, 4]))"
      ]
     },
     "execution_count": 45,
     "metadata": {},
     "output_type": "execute_result"
    }
   ],
   "source": [
    "import numpy as np\n",
    "np.unique(km.labels_, return_counts=True)"
   ]
  },
  {
   "cell_type": "code",
   "execution_count": 57,
   "metadata": {},
   "outputs": [],
   "source": [
    "text = {}\n",
    "for i, cluster in enumerate(km.labels_):\n",
    "    oneDocument = data[i]\n",
    "    if cluster not in text.keys():\n",
    "        text[cluster] = oneDocument\n",
    "    else:\n",
    "        text[cluster] += oneDocument"
   ]
  },
  {
   "cell_type": "code",
   "execution_count": 58,
   "metadata": {},
   "outputs": [],
   "source": [
    "_stopwords = set(stopwords.words('english') + list(punctuation) + ['million', 'billion', 'year', 'millions', 'billions', 'y/y', \"'s\", \"'\"])"
   ]
  },
  {
   "cell_type": "code",
   "execution_count": 59,
   "metadata": {},
   "outputs": [],
   "source": [
    "keywords = {}\n",
    "counts = {}\n",
    "for cluster in range(3):\n",
    "    word_sent = word_tokenize(text[cluster].lower())\n",
    "    word_sent = [word for word in word_sent if word not in _stopwords]\n",
    "    freq = FreqDist(word_sent)\n",
    "    keywords[cluster] = nlargest(100, freq, key=freq.get)\n",
    "    counts[cluster] = freq"
   ]
  },
  {
   "cell_type": "code",
   "execution_count": 60,
   "metadata": {},
   "outputs": [],
   "source": [
    "unique_keys = {}\n",
    "for cluster in range(3):\n",
    "    other_clusters = list(set(range(3)) - set([cluster]))\n",
    "    \n",
    "    keys_other_cluster = set(keywords[other_clusters[0]]).union(set(keywords[other_clusters[1]]))\n",
    "    unique = set(keywords[cluster]) - keys_other_cluster\n",
    "    unique_keys[cluster] = nlargest(10, unique, key=counts[cluster].get)\n"
   ]
  },
  {
   "cell_type": "code",
   "execution_count": 61,
   "metadata": {},
   "outputs": [
    {
     "data": {
      "text/plain": [
       "{0: ['drivers',\n",
       "  'amazon',\n",
       "  'drone',\n",
       "  'bitcoin',\n",
       "  'inc.',\n",
       "  'global',\n",
       "  'capital',\n",
       "  'spark',\n",
       "  'hit',\n",
       "  'time'],\n",
       " 1: ['china',\n",
       "  'car',\n",
       "  'india',\n",
       "  'electric',\n",
       "  'google',\n",
       "  'government',\n",
       "  'vehicles',\n",
       "  'chinese',\n",
       "  'states',\n",
       "  'software'],\n",
       " 2: ['pinterest',\n",
       "  'round',\n",
       "  'startup',\n",
       "  '1',\n",
       "  'casper',\n",
       "  'funding',\n",
       "  'target',\n",
       "  'snapdeal',\n",
       "  'investment',\n",
       "  'according']}"
      ]
     },
     "execution_count": 61,
     "metadata": {},
     "output_type": "execute_result"
    }
   ],
   "source": [
    "unique_keys"
   ]
  },
  {
   "cell_type": "code",
   "execution_count": 62,
   "metadata": {},
   "outputs": [],
   "source": [
    " article = \"Facebook Inc provided more evidence on Wednesday that it can turn eyeballs into profit as the maker of the world's most popular app and social website trounced Wall Street's estimates, sending its shares to an all-time high. The leading social media company's mobile app and push into video attracted new advertisers and encouraged existing ones to spend more. It now has more than 1.7 billion monthly users, well ahead of any rivals. Its shares were up 5.4 percent in after-hours trading at $130.01, after hitting their highest since the company went public in 2012. Mobile advertising revenue accounted for 84 percent of the company's total advertising revenue, compared with 76 percent a year earlier. Total advertising revenue surged 63 percent to $6.24 billion, beating the average analyst estimate of $5.80 billion.Meanwhile, Facebook still has several untapped areas for revenue opportunities, including its WhatsApp and Messenger apps, both of which have more than 1 billion users. But Wehner said the company does not plan to monetize them any time soon, and that it is instead focused on building interactions between businesses and users on the apps. Facebook also owns picture-sharing app Instagram, which recently announced it has more than 500 million users. Facebook has yet to say how much money Instagram makes, but research firm eMarketer predicts it will make $1.5 billion in revenue this year.Total revenue rose 59.2 percent to $6.44 billion, ahead of analysts' average estimate of $6.02 billion.\""
   ]
  },
  {
   "cell_type": "code",
   "execution_count": 75,
   "metadata": {},
   "outputs": [
    {
     "data": {
      "text/plain": [
       "KNeighborsClassifier(algorithm='auto', leaf_size=30, metric='minkowski',\n",
       "           metric_params=None, n_jobs=1, n_neighbors=10, p=2,\n",
       "           weights='uniform')"
      ]
     },
     "execution_count": 75,
     "metadata": {},
     "output_type": "execute_result"
    }
   ],
   "source": [
    "from sklearn.neighbors import KNeighborsClassifier\n",
    "classifier = KNeighborsClassifier(n_neighbors=10)\n",
    "classifier.fit(x, km.labels_)"
   ]
  },
  {
   "cell_type": "code",
   "execution_count": 76,
   "metadata": {},
   "outputs": [
    {
     "data": {
      "text/plain": [
       "<1x229 sparse matrix of type '<class 'numpy.float64'>'\n",
       "\twith 30 stored elements in Compressed Sparse Row format>"
      ]
     },
     "execution_count": 76,
     "metadata": {},
     "output_type": "execute_result"
    }
   ],
   "source": [
    "test = vectorizer.transform([article])\n",
    "test"
   ]
  },
  {
   "cell_type": "code",
   "execution_count": 77,
   "metadata": {},
   "outputs": [
    {
     "data": {
      "text/plain": [
       "array([0])"
      ]
     },
     "execution_count": 77,
     "metadata": {},
     "output_type": "execute_result"
    }
   ],
   "source": [
    "classifier.predict(test)"
   ]
  },
  {
   "cell_type": "code",
   "execution_count": null,
   "metadata": {},
   "outputs": [],
   "source": []
  },
  {
   "cell_type": "code",
   "execution_count": null,
   "metadata": {},
   "outputs": [],
   "source": []
  },
  {
   "cell_type": "code",
   "execution_count": null,
   "metadata": {},
   "outputs": [],
   "source": []
  },
  {
   "cell_type": "code",
   "execution_count": null,
   "metadata": {},
   "outputs": [],
   "source": []
  }
 ],
 "metadata": {
  "kernelspec": {
   "display_name": "Python 3",
   "language": "python",
   "name": "python3"
  },
  "language_info": {
   "codemirror_mode": {
    "name": "ipython",
    "version": 3
   },
   "file_extension": ".py",
   "mimetype": "text/x-python",
   "name": "python",
   "nbconvert_exporter": "python",
   "pygments_lexer": "ipython3",
   "version": "3.6.3"
  }
 },
 "nbformat": 4,
 "nbformat_minor": 2
}
